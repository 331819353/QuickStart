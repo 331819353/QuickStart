{
 "cells": [
  {
   "cell_type": "code",
   "execution_count": 1,
   "id": "initial_id",
   "metadata": {
    "collapsed": true,
    "ExecuteTime": {
     "end_time": "2023-12-07T07:42:24.318496Z",
     "start_time": "2023-12-07T07:42:24.306420Z"
    }
   },
   "outputs": [
    {
     "name": "stdout",
     "output_type": "stream",
     "text": [
      "t1: 2 \n",
      "t2: 0\n"
     ]
    }
   ],
   "source": [
    "t1 = (2 > 0) * 2\n",
    "t2 = (-2 > 0) * 2\n",
    "print(\"t1:\", t1, \"\\nt2:\", t2)"
   ]
  },
  {
   "cell_type": "code",
   "execution_count": 2,
   "outputs": [
    {
     "name": "stdout",
     "output_type": "stream",
     "text": [
      "2\n"
     ]
    }
   ],
   "source": [
    "print(True * 2)"
   ],
   "metadata": {
    "collapsed": false,
    "ExecuteTime": {
     "end_time": "2023-12-07T07:43:53.523473Z",
     "start_time": "2023-12-07T07:43:53.490330Z"
    }
   },
   "id": "14e24f1571b1739d"
  },
  {
   "cell_type": "code",
   "execution_count": 3,
   "outputs": [
    {
     "name": "stdout",
     "output_type": "stream",
     "text": [
      "0\n"
     ]
    }
   ],
   "source": [
    "print(False * 2)"
   ],
   "metadata": {
    "collapsed": false,
    "ExecuteTime": {
     "end_time": "2023-12-07T07:44:07.840090Z",
     "start_time": "2023-12-07T07:44:07.828599Z"
    }
   },
   "id": "34bb41d9896d6d0d"
  },
  {
   "cell_type": "code",
   "execution_count": null,
   "outputs": [],
   "source": [
    "## True和 False 做逻辑运算被转化成1和0"
   ],
   "metadata": {
    "collapsed": false
   },
   "id": "7e49b0ce3da25966"
  }
 ],
 "metadata": {
  "kernelspec": {
   "display_name": "Python 3",
   "language": "python",
   "name": "python3"
  },
  "language_info": {
   "codemirror_mode": {
    "name": "ipython",
    "version": 2
   },
   "file_extension": ".py",
   "mimetype": "text/x-python",
   "name": "python",
   "nbconvert_exporter": "python",
   "pygments_lexer": "ipython2",
   "version": "2.7.6"
  }
 },
 "nbformat": 4,
 "nbformat_minor": 5
}
